{
 "cells": [
  {
   "cell_type": "code",
   "execution_count": 1,
   "metadata": {},
   "outputs": [],
   "source": [
    "import numpy as np\n",
    "import os\n",
    "import cv2\n",
    "import pickle\n",
    "import tensorflow as tf\n",
    "import time\n",
    "from tensorflow.python.keras.backend import learning_phase"
   ]
  },
  {
   "cell_type": "code",
   "execution_count": 2,
   "metadata": {},
   "outputs": [],
   "source": [
    "def loadData(path=\"output\"):\n",
    "    '''\n",
    "    Loads the data to be used by the classifiers\n",
    "    '''\n",
    "    pickle_in = open(path+\"/X.pickle\", \"rb\")\n",
    "    X = pickle.load(pickle_in)\n",
    "    pickle_in = open(path+\"/y.pickle\", \"rb\")\n",
    "    y = pickle.load(pickle_in)\n",
    "    pickle_in = open(path+\"/data.pickle\", \"rb\")\n",
    "    data = pickle.load(pickle_in)\n",
    "\n",
    "    return X,y,data"
   ]
  },
  {
   "cell_type": "code",
   "execution_count": 3,
   "metadata": {},
   "outputs": [],
   "source": [
    "X,y,_ = loadData()\n",
    "from sklearn.model_selection import train_test_split\n",
    "X_train, X_test, y_train, y_test = train_test_split(X, y, test_size=0.2)\n"
   ]
  },
  {
   "cell_type": "code",
   "execution_count": 4,
   "metadata": {},
   "outputs": [],
   "source": [
    "model = tf.keras.models.load_model('output/model')"
   ]
  },
  {
   "cell_type": "code",
   "execution_count": 5,
   "metadata": {},
   "outputs": [
    {
     "name": "stdout",
     "output_type": "stream",
     "text": [
      "66/66 [==============================] - 5s 73ms/step - loss: 0.4230 - accuracy: 0.8388\n",
      "[0.42302367091178894, 0.8388330936431885]\n"
     ]
    }
   ],
   "source": [
    "results = model.evaluate(np.asarray(X_test),np.asarray(y_test))\n",
    "print(results)"
   ]
  },
  {
   "cell_type": "code",
   "execution_count": 16,
   "metadata": {},
   "outputs": [
    {
     "name": "stdout",
     "output_type": "stream",
     "text": [
      "(64, 64, 3)\n"
     ]
    }
   ],
   "source": [
    "coin = np.asarray(cv2.imread(\"images/test0.jpg\"))\n",
    "coin = cv2.resize(coin, (64,64))\n",
    "print(coin.shape)\n",
    "to_predict = []\n",
    "to_predict.append(coin)"
   ]
  },
  {
   "cell_type": "code",
   "execution_count": 15,
   "metadata": {},
   "outputs": [
    {
     "name": "stdout",
     "output_type": "stream",
     "text": [
      "Is:  50c\n"
     ]
    }
   ],
   "source": [
    "predictions = model.predict(np.asarray(to_predict))\n",
    "result = np.where(predictions == np.amax(predictions))\n",
    "CATEGORIES = ['1c', '1e', '2c','2e','5c','10c','20c','50c']  \n",
    "print(\"Is: \", CATEGORIES[result[1][0]])"
   ]
  }
 ],
 "metadata": {
  "interpreter": {
   "hash": "a4174bd7b2b7eab2fe8cf7ffe2318ecd8dd5f27acbbf4228d62405a84b773f85"
  },
  "kernelspec": {
   "display_name": "Python 3.8.12 64-bit ('tf2_venv': conda)",
   "language": "python",
   "name": "python3"
  },
  "language_info": {
   "codemirror_mode": {
    "name": "ipython",
    "version": 3
   },
   "file_extension": ".py",
   "mimetype": "text/x-python",
   "name": "python",
   "nbconvert_exporter": "python",
   "pygments_lexer": "ipython3",
   "version": "3.8.12"
  },
  "orig_nbformat": 4
 },
 "nbformat": 4,
 "nbformat_minor": 2
}
