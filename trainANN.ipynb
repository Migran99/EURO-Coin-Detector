{
 "cells": [
  {
   "cell_type": "code",
   "execution_count": 1,
   "metadata": {},
   "outputs": [],
   "source": [
    "import numpy as np\n",
    "import os\n",
    "import cv2\n",
    "import pickle\n",
    "import tensorflow as tf\n",
    "import time\n",
    "from tensorflow.python.keras.backend import learning_phase\n",
    "from sklearn.model_selection import train_test_split\n",
    "\n"
   ]
  },
  {
   "cell_type": "code",
   "execution_count": 2,
   "metadata": {},
   "outputs": [],
   "source": [
    "model = tf.keras.models.Sequential(\n",
    "    [\n",
    "        tf.keras.layers.Input(shape=(64,64,3)),\n",
    "        tf.keras.layers.Conv2D(32,(3,3),activation='relu'), #filters -> how many weighted values are in the filter. 32 filters of 3x3 size.\n",
    "        tf.keras.layers.Conv2D(64,(3,3),activation='relu'),\n",
    "        tf.keras.layers.MaxPool2D(), # takes the out. of conv. and keeps only the max of the windows size\n",
    "        tf.keras.layers.BatchNormalization(),\n",
    "\n",
    "        tf.keras.layers.Conv2D(128,(3,3),activation='relu'),\n",
    "        tf.keras.layers.MaxPool2D(),\n",
    "        tf.keras.layers.BatchNormalization(),\n",
    "\n",
    "        tf.keras.layers.GlobalAvgPool2D(), # computes avg according to some axis\n",
    "        tf.keras.layers.Dense(64,activation='relu'), # matrix-vector multiplication. Changes dimesions of vector.\n",
    "        tf.keras.layers.Dense(8,activation='softmax') # gives us 10 probabilities that sum up to 1. We have 10 numbers. -> Output\n",
    "\n",
    "    ]\n",
    ")\n",
    "\n",
    "def classification(x_train,y_train,model,path=\"output\"):\n",
    "    model.compile(optimizer=tf.keras.optimizers.Adam(),\n",
    "                loss='sparse_categorical_crossentropy',\n",
    "                metrics=['accuracy'])\n",
    "    \n",
    "    model.fit(x_train, y_train, epochs=5, validation_split=0.1)\n",
    "    model.save(path+'/model')\n",
    "\n",
    "def loadData(path=\"output\"):\n",
    "    '''\n",
    "    Loads the data to be used by the classifiers\n",
    "    '''\n",
    "    pickle_in = open(path+\"/X.pickle\", \"rb\")\n",
    "    X = pickle.load(pickle_in)\n",
    "    pickle_in = open(path+\"/y.pickle\", \"rb\")\n",
    "    y = pickle.load(pickle_in)\n",
    "    pickle_in = open(path+\"/data.pickle\", \"rb\")\n",
    "    data = pickle.load(pickle_in)\n",
    "\n",
    "    return X,y,data"
   ]
  },
  {
   "cell_type": "code",
   "execution_count": 3,
   "metadata": {},
   "outputs": [
    {
     "name": "stdout",
     "output_type": "stream",
     "text": [
      "Training Size: 8363\n",
      "Testing  Size: 2091\n"
     ]
    }
   ],
   "source": [
    "X,y,_ = loadData()\n",
    "X_train, X_test, y_train, y_test = train_test_split(X, y, test_size=0.2)\n",
    "print('Training Size:', len(X_train))\n",
    "print('Testing  Size:', len(X_test))"
   ]
  },
  {
   "cell_type": "code",
   "execution_count": 4,
   "metadata": {},
   "outputs": [
    {
     "name": "stdout",
     "output_type": "stream",
     "text": [
      "Epoch 1/5\n",
      "236/236 [==============================] - 65s 274ms/step - loss: 0.9598 - accuracy: 0.6199 - val_loss: 1.0357 - val_accuracy: 0.5615\n",
      "Epoch 2/5\n",
      "236/236 [==============================] - 59s 250ms/step - loss: 0.6238 - accuracy: 0.7397 - val_loss: 0.7431 - val_accuracy: 0.6655\n",
      "Epoch 3/5\n",
      "236/236 [==============================] - 62s 262ms/step - loss: 0.5013 - accuracy: 0.7966 - val_loss: 0.5711 - val_accuracy: 0.7240\n",
      "Epoch 4/5\n",
      "236/236 [==============================] - 59s 249ms/step - loss: 0.4179 - accuracy: 0.8366 - val_loss: 1.0164 - val_accuracy: 0.6153\n",
      "Epoch 5/5\n",
      "236/236 [==============================] - 59s 249ms/step - loss: 0.3536 - accuracy: 0.8657 - val_loss: 0.4238 - val_accuracy: 0.8471\n",
      "INFO:tensorflow:Assets written to: output/model\\assets\n"
     ]
    }
   ],
   "source": [
    "classification(np.asarray(X_train),np.asarray(y_train),model)"
   ]
  },
  {
   "cell_type": "code",
   "execution_count": 5,
   "metadata": {},
   "outputs": [
    {
     "name": "stdout",
     "output_type": "stream",
     "text": [
      "66/66 [==============================] - 5s 73ms/step - loss: 0.4392 - accuracy: 0.8436\n",
      "[0.4391638934612274, 0.8436154723167419]\n"
     ]
    }
   ],
   "source": [
    "results = model.evaluate(np.asarray(X_test),np.asarray(y_test))\n",
    "print(results)"
   ]
  }
 ],
 "metadata": {
  "interpreter": {
   "hash": "a4174bd7b2b7eab2fe8cf7ffe2318ecd8dd5f27acbbf4228d62405a84b773f85"
  },
  "kernelspec": {
   "display_name": "Python 3.8.12 64-bit ('tf2_venv': conda)",
   "language": "python",
   "name": "python3"
  },
  "language_info": {
   "codemirror_mode": {
    "name": "ipython",
    "version": 3
   },
   "file_extension": ".py",
   "mimetype": "text/x-python",
   "name": "python",
   "nbconvert_exporter": "python",
   "pygments_lexer": "ipython3",
   "version": "3.8.12"
  },
  "orig_nbformat": 4
 },
 "nbformat": 4,
 "nbformat_minor": 2
}
